{
 "cells": [
  {
   "cell_type": "code",
   "execution_count": 3,
   "metadata": {},
   "outputs": [],
   "source": [
    "from os import path, mkdir\n",
    "import numpy as np\n",
    "import matplotlib.pyplot as plt\n",
    "from freetype import *"
   ]
  },
  {
   "cell_type": "code",
   "execution_count": null,
   "metadata": {},
   "outputs": [],
   "source": [
    "def save_fonts(ttf_path, idx, save_dir, font_size=48, img_size=128):\n",
    "    if not path.exists(save_dir):\n",
    "        print('not exist')\n",
    "        mkdir(save_dir)\n",
    "\n",
    "    # load the font\n",
    "    face = Face(ttf_path)\n",
    "    face.set_pixel_sizes(font_size, font_size)\n",
    "    slot = face.glyph\n",
    "\n",
    "    #alphabet = 'abcdefghijklmnopqrstuvwxyz'\n",
    "    alphabet = 'ABCDEFGHIJKLMNOPQRSTUVWXYZ'\n",
    "\n",
    "    save_files = []\n",
    "    \n",
    "    # load each letter in the alphabet\n",
    "    for i, c in enumerate(alphabet):\n",
    "        face.load_char(c)\n",
    "        bitmap = slot.bitmap\n",
    "\n",
    "        h = bitmap.rows\n",
    "        w = bitmap.width\n",
    "        \n",
    "        x = (img_size - h) // 2\n",
    "        y = (img_size - w) // 2\n",
    "        \n",
    "        if h > 64 or w > 64:\n",
    "            return -1\n",
    "\n",
    "        if not path.exists(path.join(save_dir, f'{c}')):\n",
    "            mkdir(path.join(save_dir, f'{c}'))\n",
    "\n",
    "        imgpath = path.join(save_dir, f'{c}', f'{idx}')\n",
    "        img = np.zeros((img_size, img_size, 1), dtype='uint8')\n",
    "        \n",
    "        # copy the font to the middle of the image\n",
    "        temp = np.reshape(bitmap.buffer[:h*w], (h, w))\n",
    "        try:\n",
    "            img[x:x+h, y:y+w, 0] = temp\n",
    "        except ValueError:\n",
    "            print(ttf_path)\n",
    "            return -2\n",
    "\n",
    "        save_files.append((imgpath, img))\n",
    "\n",
    "    # save if no characters returned early\n",
    "    for (impath, img) in save_files:\n",
    "        np.save(imgpath, img)\n",
    "\n",
    "    return 0"
   ]
  },
  {
   "cell_type": "code",
   "execution_count": null,
   "metadata": {},
   "outputs": [],
   "source": [
    "def main():\n",
    "    c1 = 0\n",
    "    c2 = 0\n",
    "    f = open('fonts.csv', 'w')\n",
    "    idx = 0\n",
    "    for i, entry in enumerate(os.scandir('./fonts')):\n",
    "        if entry.is_file():\n",
    "            ret = save_fonts(entry.path, idx, './images')\n",
    "            if ret == -1:\n",
    "                c1 += 1\n",
    "            elif ret == -2:\n",
    "                c2 += 1\n",
    "            else:\n",
    "                idx += 1\n",
    "                f.write(f'{idx} {entry.path}\\n')\n",
    "\n",
    "    f.close()\n",
    "    print(f'fonts that were too large is {count}')\n",
    "    print(f'exception thrown is {c2}')"
   ]
  },
  {
   "cell_type": "code",
   "execution_count": 2,
   "metadata": {},
   "outputs": [
    {
     "name": "stdout",
     "output_type": "stream",
     "text": [
      "count is 60\n",
      "c2 is 0\n"
     ]
    }
   ],
   "source": [
    "main()"
   ]
  }
 ],
 "metadata": {
  "kernelspec": {
   "display_name": "Python 3",
   "language": "python",
   "name": "python3"
  },
  "language_info": {
   "codemirror_mode": {
    "name": "ipython",
    "version": 3
   },
   "file_extension": ".py",
   "mimetype": "text/x-python",
   "name": "python",
   "nbconvert_exporter": "python",
   "pygments_lexer": "ipython3",
   "version": "3.7.9"
  }
 },
 "nbformat": 4,
 "nbformat_minor": 4
}
