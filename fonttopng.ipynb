{
 "cells": [
  {
   "cell_type": "code",
   "execution_count": 3,
   "metadata": {},
   "outputs": [],
   "source": [
    "from os import path, mkdir\n",
    "\n",
    "import numpy as np\n",
    "import matplotlib.pyplot as plt\n",
    "from freetype import *\n",
    "\n",
    "def save_fonts(ttf_path, idx, save_dir, font_size=48, img_size=128):\n",
    "    if not path.exists(save_dir):\n",
    "        print('not exist')\n",
    "        mkdir(save_dir)\n",
    "\n",
    "    face = Face(ttf_path)\n",
    "    face.set_pixel_sizes(font_size, font_size)\n",
    "    slot = face.glyph\n",
    "\n",
    "    #alphabet = 'abcdefghijklmnopqrstuvwxyz'\n",
    "    alphabet = 'ABCDEFGHIJKLMNOPQRSTUVWXYZ'\n",
    "\n",
    "    save_files = []\n",
    "    for i, c in enumerate(alphabet):\n",
    "        face.load_char(c)\n",
    "        bitmap = slot.bitmap\n",
    "\n",
    "        h = bitmap.rows\n",
    "        w = bitmap.width\n",
    "        \n",
    "        x = (img_size - h) // 2\n",
    "        y = (img_size - w) // 2\n",
    "        \n",
    "        if h > 64 or w > 64:\n",
    "#             print(h, w)\n",
    "            return -1\n",
    "\n",
    "#         if h < 20 or w < 20:\n",
    "#             print(h, w)\n",
    "\n",
    "        if not path.exists(path.join(save_dir, f'{c}')):\n",
    "            mkdir(path.join(save_dir, f'{c}'))\n",
    "\n",
    "        imgpath = path.join(save_dir, f'{c}', f'{idx}')\n",
    "        img = np.zeros((img_size, img_size, 1), dtype='uint8')\n",
    "\n",
    "        temp = np.reshape(bitmap.buffer[:h*w], (h, w))\n",
    "        try:\n",
    "            img[x:x+h, y:y+w, 0] = temp\n",
    "        except ValueError:\n",
    "            os.remove(ttf_path)\n",
    "            print(ttf_path)\n",
    "            return -2\n",
    "\n",
    "        #plt.imsave(imgpath, img, cmap='gray')\n",
    "\n",
    "        save_files.append((imgpath, img))\n",
    "#         if w == 0 or h == 0:\n",
    "#             print(ttf_path)\n",
    "#             plt.imshow(img, cmap='gray')\n",
    "#             plt.show()\n",
    "\n",
    "    for (impath, img) in save_files:\n",
    "        np.save(imgpath, img)\n",
    "\n",
    "    return 0\n",
    "\n",
    "def main():\n",
    "    count = 0\n",
    "    c2 = 0\n",
    "    f = open('fonts.csv', 'w')\n",
    "    idx = 0\n",
    "    for i, entry in enumerate(os.scandir('./fonts')):\n",
    "        if entry.is_file():\n",
    "            ret = save_fonts(entry.path, idx, './images')\n",
    "            if ret == -1:\n",
    "                count+=1\n",
    "            elif ret == -2:\n",
    "                c2 += 1\n",
    "            else:\n",
    "                idx += 1\n",
    "                f.write(f'{idx} {entry.path}\\n')\n",
    "\n",
    "    f.close()\n",
    "    print(f'count is {count}')\n",
    "    print(f'c2 is {c2}')"
   ]
  },
  {
   "cell_type": "code",
   "execution_count": 2,
   "metadata": {},
   "outputs": [
    {
     "name": "stdout",
     "output_type": "stream",
     "text": [
      "count is 60\n",
      "c2 is 0\n"
     ]
    }
   ],
   "source": [
    "main()"
   ]
  }
 ],
 "metadata": {
  "kernelspec": {
   "display_name": "Python 3",
   "language": "python",
   "name": "python3"
  },
  "language_info": {
   "codemirror_mode": {
    "name": "ipython",
    "version": 3
   },
   "file_extension": ".py",
   "mimetype": "text/x-python",
   "name": "python",
   "nbconvert_exporter": "python",
   "pygments_lexer": "ipython3",
   "version": "3.7.5"
  }
 },
 "nbformat": 4,
 "nbformat_minor": 4
}
